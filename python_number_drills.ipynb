{
  "nbformat": 4,
  "nbformat_minor": 0,
  "metadata": {
    "kernelspec": {
      "display_name": "Python 3",
      "language": "python",
      "name": "python3"
    },
    "language_info": {
      "codemirror_mode": {
        "name": "ipython",
        "version": 3
      },
      "file_extension": ".py",
      "mimetype": "text/x-python",
      "name": "python",
      "nbconvert_exporter": "python",
      "pygments_lexer": "ipython3",
      "version": "3.7.0"
    },
    "colab": {
      "name": "python_number_drills.ipynb",
      "provenance": [],
      "collapsed_sections": []
    }
  },
  "cells": [
    {
      "cell_type": "markdown",
      "metadata": {
        "id": "8_AdXC0Ln8G6",
        "colab_type": "text"
      },
      "source": [
        "## 1: Rømer temperature\n",
        "\n",
        "You're writing an excruciatingly detailed alternate history novel set in a world where [Daniel Gabriel Fahrenheit](https://en.wikipedia.org/wiki/Daniel_Gabriel_Fahrenheit) was never born.\n",
        "\n",
        "Since Fahrenheit never lived the world kept on using the [Rømer scale](https://en.wikipedia.org/wiki/R%C3%B8mer_scale), invented by fellow Dane [Ole Rømer](https://en.wikipedia.org/wiki/Ole_R%C3%B8mer) to this very day, skipping over the Fahrenheit and Celsius scales entirely.\n",
        "\n",
        "Your magnum opus contains several thousand references to temperature, but those temperatures are all currently in degrees Celsius. You don't want to convert everything by hand, so you've decided to write a function, `celsius_to_romer` that takes a temperature in degrees Celsius and returns the equivalent temperature in degrees Rømer.\n",
        "\n",
        "For example: `celsius_to_romer(24)` should return 20.1."
      ]
    },
    {
      "cell_type": "code",
      "metadata": {
        "id": "ewuDeDx1n8G9",
        "colab_type": "code",
        "outputId": "15c65ec8-c210-4bbe-e637-dcddc7f96cb7",
        "colab": {
          "base_uri": "https://localhost:8080/",
          "height": 34
        }
      },
      "source": [
        "def celsius_to_romer(n):\n",
        "  return n - 3.9\n",
        "\n",
        "celsius_to_romer(24)"
      ],
      "execution_count": 1,
      "outputs": [
        {
          "output_type": "execute_result",
          "data": {
            "text/plain": [
              "20.1"
            ]
          },
          "metadata": {
            "tags": []
          },
          "execution_count": 1
        }
      ]
    },
    {
      "cell_type": "markdown",
      "metadata": {
        "id": "CHF-7Xk5n8G_",
        "colab_type": "text"
      },
      "source": [
        "## 2: Pixelart planning\n",
        "\n",
        "You're laying out a rad pixel art mural to paint on your living room wall in homage to [Paul Robertson](http://68.media.tumblr.com/0f55f7f3789a354cfcda7c2a64f501d1/tumblr_o7eq3biK9s1qhccbco1_500.png), your favorite pixel artist.\n",
        "\n",
        "You want your work to be perfect down to the millimeter. You haven't decided on the dimensions of your piece, how large you want your pixels to be, or which wall you want to use. You just know that you want to fit an exact number of pixels.\n",
        "\n",
        "To help decide those things you've decided to write a function, `is_divisible` that will tell you whether a wall of a certain length can exactly fit an integer number of pixels of a certain length.\n",
        "\n",
        "Your function should take two arguments: the size of the wall in millimeters and the size of a pixel in millimeters. It should return `Tru`e if you can fit an exact number of pixels on the wall, otherwise it should return `False`. For example `is_divisible(4050, 27)` should return `True`, but `is_divisible(4066, 27)` should return `False`.\n",
        "\n",
        "Note: you don't need to use an `if` statement here. Remember that in Python an expression using the `==` comparison operator will evaluate to either `True` or `False`:\n",
        "\n",
        "```\n",
        ">>> def equals_three(num):\n",
        ">>>     return num == 3\n",
        ">>> equals_three(5)\n",
        "False\n",
        ">>> equals_three(3)\n",
        "True\n",
        "```"
      ]
    },
    {
      "cell_type": "code",
      "metadata": {
        "id": "v2oSBBR_n8HA",
        "colab_type": "code",
        "outputId": "c0e36870-a161-4e4a-dda8-a53e279a0526",
        "colab": {
          "base_uri": "https://localhost:8080/",
          "height": 34
        }
      },
      "source": [
        "def is_divisible(wall, pixel):\n",
        "  return wall % pixel == 0\n",
        "\n",
        "is_divisible(4050, 27)"
      ],
      "execution_count": 0,
      "outputs": [
        {
          "output_type": "execute_result",
          "data": {
            "text/plain": [
              "True"
            ]
          },
          "metadata": {
            "tags": []
          },
          "execution_count": 8
        }
      ]
    },
    {
      "cell_type": "markdown",
      "metadata": {
        "id": "375uJB2pn8HC",
        "colab_type": "text"
      },
      "source": [
        "## 3: Blue and red marbles\n",
        "\n",
        "You and a friend have decided to play a game to drill your statistical intuitions. The game works like this:\n",
        "\n",
        "You have a bunch of red and blue marbles. To start the game you grab a handful of marbles of each color and put them into the bag, keeping track of how many of each color go in. You take turns reaching into the bag, guessing a color, and then pulling one marble out. You get a point if you guessed correctly. The trick is you only have three seconds to make your guess, so you have to think quickly.\n",
        "\n",
        "You've decided to write a function, `guess_blue` to help automatically calculate whether you should guess blue or red. The function should take four arguments:\n",
        "\n",
        "- the number of blue marbles you put in the bag to start\n",
        "- the number of red marbles you put in the bag to start\n",
        "- the number of blue marbles pulled out so far, and\n",
        "- the number of red marbles pulled out so far.\n",
        "\n",
        "`guess_blue` should return the probability of drawing a blue marble, expressed as a float. For example, guess_blue(5, 5, 2, 3) should return 0.6."
      ]
    },
    {
      "cell_type": "code",
      "metadata": {
        "id": "xuH12aCQn8HC",
        "colab_type": "code",
        "outputId": "e5ac9b01-3c4f-4a78-a59b-c4ac0e8caf54",
        "colab": {
          "base_uri": "https://localhost:8080/",
          "height": 34
        }
      },
      "source": [
        "def guess_blue(blue_start, red_start, blue_pulled, red_pulled):\n",
        "  return (blue_start - blue_pulled) / (blue_start - blue_pulled + red_start - red_pulled)\n",
        "\n",
        "guess_blue(5,5,2,3)\n"
      ],
      "execution_count": 0,
      "outputs": [
        {
          "output_type": "execute_result",
          "data": {
            "text/plain": [
              "0.6"
            ]
          },
          "metadata": {
            "tags": []
          },
          "execution_count": 7
        }
      ]
    },
    {
      "cell_type": "markdown",
      "metadata": {
        "id": "pKTyf8Ikn8HE",
        "colab_type": "text"
      },
      "source": [
        "## 4: Congo pizza\n",
        "\n",
        "Your company, [Congo Pizza](http://interesting-africa-facts.com/Africa-Landforms/Congo-Rainforest-Facts.html), is the second-largest online frozen pizza retailer. You own a number of international warehouses that you use to store your frozen pizzas, and you need to figure out how many crates of pizzas you can store at each location.\n",
        "\n",
        "Congo recently standardized its storage containers: all pizzas fit inside a cubic crate, 16-inchs on a side. The crates are super tough so you can stack them as high as you want.\n",
        "\n",
        "Write a function `box_capacity` that figures out how many crates you can store in a given warehouse. The function should take three arguments: the length, width, and height of your warehouse (in feet) and should return an integer representing the number of boxes you can store in that space.\n",
        "\n",
        "For example: a warehouse 32 feet long, 64 feet wide, and 16 feet high can hold 13,824 boxes because you can fit 24 boxes across, 48 boxes deep, and 12 boxes high, so `box_capacity(32, 64, 16)` should return 13824."
      ]
    },
    {
      "cell_type": "code",
      "metadata": {
        "id": "dz3ycKnqn8HF",
        "colab_type": "code",
        "outputId": "344040ab-e709-4007-d43d-b00c831247f6",
        "colab": {
          "base_uri": "https://localhost:8080/",
          "height": 34
        }
      },
      "source": [
        "def box_capacity(length, width, height):\n",
        "  result = (length * 3/4) * (width * 3/4) * (height * 3/4)\n",
        "  return round(result)\n",
        "\n",
        "\n",
        "box_capacity(32, 64, 16)\n"
      ],
      "execution_count": 2,
      "outputs": [
        {
          "output_type": "execute_result",
          "data": {
            "text/plain": [
              "13824"
            ]
          },
          "metadata": {
            "tags": []
          },
          "execution_count": 2
        }
      ]
    }
  ]
}